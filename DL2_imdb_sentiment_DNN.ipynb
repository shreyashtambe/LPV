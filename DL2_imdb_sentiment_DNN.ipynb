{
  "cells": [
    {
      "cell_type": "markdown",
      "metadata": {
        "id": "GPS9qnWtTPzt"
      },
      "source": [
        "# 1- Importing libraries"
      ]
    },
    {
      "cell_type": "code",
      "execution_count": null,
      "metadata": {
        "execution": {
          "iopub.execute_input": "2023-03-23T06:59:54.577822Z",
          "iopub.status.busy": "2023-03-23T06:59:54.577427Z",
          "iopub.status.idle": "2023-03-23T07:00:00.567999Z",
          "shell.execute_reply": "2023-03-23T07:00:00.567248Z",
          "shell.execute_reply.started": "2023-03-23T06:59:54.577739Z"
        },
        "id": "NoFbh3ccTPzx"
      },
      "outputs": [],
      "source": [
        "import numpy as np \n",
        "import pandas as pd \n",
        "import tensorflow as tf\n",
        "import string\n",
        "import re\n",
        "import os\n",
        "import nltk\n",
        "from nltk.corpus import stopwords, twitter_samples\n",
        "from nltk.stem import PorterStemmer\n",
        "from nltk.tokenize import TweetTokenizer\n",
        "import matplotlib.pyplot as plt "
      ]
    },
    {
      "cell_type": "markdown",
      "metadata": {
        "id": "RPk0ej2uTPzz"
      },
      "source": [
        "# 2- Loading and Preprocessing data"
      ]
    },
    {
      "cell_type": "code",
      "execution_count": null,
      "metadata": {
        "execution": {
          "iopub.execute_input": "2023-03-23T07:00:00.569661Z",
          "iopub.status.busy": "2023-03-23T07:00:00.569396Z",
          "iopub.status.idle": "2023-03-23T07:00:00.575028Z",
          "shell.execute_reply": "2023-03-23T07:00:00.573949Z",
          "shell.execute_reply.started": "2023-03-23T07:00:00.569624Z"
        },
        "id": "SRiChzblTPzz"
      },
      "outputs": [],
      "source": [
        "imdb_data_path = \"IMDB Dataset.csv\""
      ]
    },
    {
      "cell_type": "code",
      "execution_count": null,
      "metadata": {
        "execution": {
          "iopub.execute_input": "2023-03-23T07:00:00.576687Z",
          "iopub.status.busy": "2023-03-23T07:00:00.576278Z",
          "iopub.status.idle": "2023-03-23T07:00:02.233163Z",
          "shell.execute_reply": "2023-03-23T07:00:02.232400Z",
          "shell.execute_reply.started": "2023-03-23T07:00:00.576651Z"
        },
        "id": "asokmAoTTPz0"
      },
      "outputs": [],
      "source": [
        "imdb_data = pd.read_csv(imdb_data_path)"
      ]
    },
    {
      "cell_type": "code",
      "execution_count": null,
      "metadata": {
        "execution": {
          "iopub.execute_input": "2023-03-23T07:00:07.212378Z",
          "iopub.status.busy": "2023-03-23T07:00:07.211957Z",
          "iopub.status.idle": "2023-03-23T07:00:07.232713Z",
          "shell.execute_reply": "2023-03-23T07:00:07.231890Z",
          "shell.execute_reply.started": "2023-03-23T07:00:07.212346Z"
        },
        "id": "jA88draYTPz0"
      },
      "outputs": [],
      "source": [
        "# Converting the positive labels to 1 and the negative labels to 0\n",
        "\n",
        "imdb_data['sentiment'].mask(imdb_data['sentiment'] == 'positive', 1, inplace=True)\n",
        "#This line of code replaces all occurrences of 'positive' in the 'sentiment' column with the value 1\n",
        "imdb_data['sentiment'].mask(imdb_data['sentiment'] == 'negative', 0, inplace=True)\n",
        "#This line of code replaces all occurrences of 'negative' in the 'sentiment' column with the value 0."
      ]
    },
    {
      "cell_type": "code",
      "execution_count": null,
      "metadata": {
        "execution": {
          "iopub.execute_input": "2023-03-23T07:00:07.455703Z",
          "iopub.status.busy": "2023-03-23T07:00:07.454702Z",
          "iopub.status.idle": "2023-03-23T07:00:07.469332Z",
          "shell.execute_reply": "2023-03-23T07:00:07.468461Z",
          "shell.execute_reply.started": "2023-03-23T07:00:07.455651Z"
        },
        "id": "5uFGe1ViTPz1"
      },
      "outputs": [],
      "source": [
        "# Get the reviews and the labels\n",
        "\n",
        "all_reviews = list(imdb_data['review'])\n",
        "labels = np.asarray(imdb_data['sentiment'])"
      ]
    },
    {
      "cell_type": "code",
      "execution_count": null,
      "metadata": {
        "execution": {
          "iopub.execute_input": "2023-03-23T07:00:07.806399Z",
          "iopub.status.busy": "2023-03-23T07:00:07.805864Z",
          "iopub.status.idle": "2023-03-23T07:00:24.176802Z",
          "shell.execute_reply": "2023-03-23T07:00:24.176003Z",
          "shell.execute_reply.started": "2023-03-23T07:00:07.806363Z"
        },
        "id": "L-ClwLnkTPz1"
      },
      "outputs": [],
      "source": [
        "from tensorflow.keras.preprocessing.text import Tokenizer\n",
        "from tensorflow.keras.preprocessing.sequence import pad_sequences\n",
        "\n",
        "# cutoff reviews after 200 words\n",
        "maxlen = 200\n",
        "training_samples = 40000\n",
        "validation_samples = 5000\n",
        "testing_samples = 5000\n",
        "\n",
        "# consider the top 100000 words in the dataset\n",
        "max_words = 100000\n",
        "\n",
        "# tokenize each review in the dataset\n",
        "tokenizer = Tokenizer(num_words=max_words)\n",
        "tokenizer.fit_on_texts(all_reviews)\n",
        "sequences = tokenizer.texts_to_sequences(all_reviews)\n",
        "\n",
        "\"\"\"\n",
        "In the given code snippet, the lines you mentioned are responsible for tokenizing the reviews in the dataset \n",
        "using the Tokenizer class from tensorflow.keras.preprocessing.text.\n",
        "Let's break down those lines and explain their purpose:\n",
        "\n",
        "tokenizer = Tokenizer(num_words=max_words): This line initializes a Tokenizer object with the specified num_words parameter.\n",
        " The num_words parameter indicates the maximum number of words to keep in the vocabulary, based on word frequency.\n",
        "  In this case, it is set to max_words, which is defined as 100,000. \n",
        "  This means that only the top 100,000 most frequent words will be considered during tokenization.\n",
        "\n",
        "tokenizer.fit_on_texts(all_reviews): This line fits the tokenizer on the provided all_reviews data. \n",
        "It updates the internal vocabulary of the tokenizer based on the text data in all_reviews.\n",
        " This step allows the tokenizer to learn the vocabulary and assign a unique index to each word in the dataset.\n",
        "\n",
        "sequences = tokenizer.texts_to_sequences(all_reviews):\n",
        " This line converts the text reviews in all_reviews into sequences of integers using the learned vocabulary from the tokenizer.\n",
        "  Each word in the reviews is replaced with its corresponding integer index.\n",
        "   The resulting sequences represent the tokenized versions of the reviews.\n",
        "   \n",
        "In summary, these lines initialize a tokenizer, fit it on the text data to learn the vocabulary, \n",
        "and then convert the text reviews into sequences of integers using the learned vocabulary. \n",
        "The sequences can be further processed or used as input for machine learning models.\n",
        "Regenerate response\"\"\"\n"
      ]
    },
    {
      "cell_type": "code",
      "execution_count": null,
      "metadata": {
        "execution": {
          "iopub.execute_input": "2023-03-23T07:00:24.178543Z",
          "iopub.status.busy": "2023-03-23T07:00:24.178298Z",
          "iopub.status.idle": "2023-03-23T07:00:24.240040Z",
          "shell.execute_reply": "2023-03-23T07:00:24.238518Z",
          "shell.execute_reply.started": "2023-03-23T07:00:24.178508Z"
        },
        "id": "MrPUMAEDTPz2",
        "outputId": "50acf907-a6ba-4083-ed9d-0dadcd8f902f"
      },
      "outputs": [
        {
          "name": "stdout",
          "output_type": "stream",
          "text": [
            "Found 124252 unique tokens.\n"
          ]
        }
      ],
      "source": [
        "word_index = tokenizer.word_index\n",
        "print(\"Found {} unique tokens.\".format(len(word_index)))\n",
        "ind2word = dict([(value, key) for (key, value) in word_index.items()])\n",
        "\n",
        "\n",
        "\n",
        "\"\"\"\n",
        "ind2word : The line of code you provided creates a dictionary ind2word that maps integer indices to their corresponding words. \n",
        "It uses a dictionary comprehension to iterate over the word_index dictionary and swap the keys and values.\n",
        " The code uses a list comprehension to create a new list of tuples where the key-value pairs of the word_index dictionary are reversed.\n",
        "  It iterates over the items of word_index using the .items() method, which returns a sequence of key-value tuples.\n",
        "   Then, for each tuple (key, value), it creates a new tuple (value, key).\n",
        "\n",
        "Finally, the dict() function is used to convert the list of tuples into a dictionary, resulting in the ind2word dictionary.\n",
        " This dictionary allows you to look up words using their integer indices. \n",
        " For example, ind2word[1] will return the word corresponding to index 1 in the vocabulary.\n",
        "\"\"\"\n",
        "\n",
        "# The word_index dictionary itself does not directly store the frequency of occurrence of words. \n",
        "# It is a mapping of words to their integer indices based on their order of occurrence in the training data.\n",
        "# To determine the frequency of occurrence of words, you can use the tokenizer.word_counts attribute.\n",
        "# It is a dictionary that contains the count of each word in the training data. \n",
        "# The keys of the dictionary are the words, and the values are their respective frequencies.\n",
        "\n"
      ]
    },
    {
      "cell_type": "code",
      "execution_count": null,
      "metadata": {
        "execution": {
          "iopub.execute_input": "2023-03-23T07:00:37.151626Z",
          "iopub.status.busy": "2023-03-23T07:00:37.151314Z",
          "iopub.status.idle": "2023-03-23T07:00:37.853350Z",
          "shell.execute_reply": "2023-03-23T07:00:37.852541Z",
          "shell.execute_reply.started": "2023-03-23T07:00:37.151589Z"
        },
        "id": "D1HU3WICTPz3"
      },
      "outputs": [],
      "source": [
        "# pad the sequences so that all sequences are of the same size\n",
        "data = pad_sequences(sequences, maxlen=maxlen)\n",
        "\n",
        "\"\"\"\n",
        "The line data = pad_sequences(sequences, maxlen=maxlen) is used to perform padding on the sequences of tokenized reviews.\n",
        " Padding is a process of adding zeros (or any other specified value) to sequences that are shorter than a certain length,\n",
        "  in order to make all sequences of the same length.\n",
        "\"\"\"\n"
      ]
    },
    {
      "cell_type": "code",
      "execution_count": null,
      "metadata": {
        "execution": {
          "iopub.execute_input": "2023-03-23T07:00:38.460421Z",
          "iopub.status.busy": "2023-03-23T07:00:38.459978Z",
          "iopub.status.idle": "2023-03-23T07:00:38.515124Z",
          "shell.execute_reply": "2023-03-23T07:00:38.514386Z",
          "shell.execute_reply.started": "2023-03-23T07:00:38.460387Z"
        },
        "id": "iAStrFJkTPz3"
      },
      "outputs": [],
      "source": [
        "# shuffling the data and labels\n",
        "\n",
        "indices = np.arange(data.shape[0])\n",
        "np.random.shuffle(indices)\n",
        "\n",
        "\n",
        "\"\"\"\n",
        "The code snippet indices = np.arange(data.shape[0]) creates an array of indices from 0 to the number of rows in the data array.\n",
        "The line np.random.shuffle(indices) shuffles the indices randomly. \n",
        "This random shuffling is typically done to randomize the order of the data, \n",
        "which is useful for tasks like training a machine learning model.\n",
        " Shuffling the indices ensures that the data samples are presented in a random order during training, \n",
        " which helps prevent any bias that may arise from the original order of the data.\n",
        "\"\"\"\n",
        "\n",
        "\n",
        "data = data[indices]\n",
        "labels = labels[indices]\n",
        "\n",
        "\n",
        "\"\"\"\n",
        "The code snippet data = data[indices] and labels = labels[indices] is used to shuffle the data and labels in the same random order.\n",
        " It ensures that the data samples and their corresponding labels are shuffled in a consistent way,\n",
        "  so that the order of the data andlabels match.\n",
        "\n",
        "Here, indices is an array of indices ranging from 0 to the number of data samples. \n",
        "By shuffling the indices, we randomize the order of the data samples.\n",
        "\n",
        "The line data = data[indices] rearranges the rows of the data array according to the shuffled indices. \n",
        "Similarly, labels = labels[indices] rearranges the elements of the labels array.\n",
        "\n",
        "By performing these operations, the data samples and their labels are now shuffled in the same order, \n",
        "allowing us to maintain the correspondence between the data and its labels.\n",
        "\n",
        "\"\"\"\n",
        "\n",
        "\n",
        "# Splitting the data set to training and validation datasets \n",
        "\n",
        "x_train = data[: training_samples]\n",
        "y_train = labels[: training_samples]\n",
        "\n",
        "\"\"\"\n",
        "This assigns the first \"training_samples\" i.e.40000 number of data samples and labels to x_train and y_train, respectively. \n",
        "These will be used for training the model.\n",
        "\"\"\"\n",
        "\n",
        "x_val = data[training_samples : training_samples + validation_samples]\n",
        "y_val = labels[training_samples : training_samples + validation_samples]\n",
        "\n",
        "\"\"\"\n",
        "This assigns the next validation_samples number of data samples and labels to x_val and y_val, respectively.4\n",
        "4000:4000+5000  i.e 4 to 9 k are validation sample\n",
        " These will be used for validating the model during training\n",
        "\"\"\"\n",
        "\n",
        "x_test = data[training_samples + validation_samples: training_samples + validation_samples + testing_samples]\n",
        "y_test = labels[training_samples + validation_samples: training_samples + validation_samples + testing_samples]\n",
        "\n",
        "\"\"\"\n",
        "9 to 14k are testing samples\n",
        "\"\"\"\n",
        "\n",
        "x_train = np.asarray(x_train).astype(np.int)\n",
        "y_train = np.asarray(y_train).astype(np.int)\n",
        "x_val = np.asarray(x_val).astype(np.int)\n",
        "y_val = np.asarray(y_val).astype(np.int)\n",
        "x_test = np.asarray(x_test).astype(np.int)\n",
        "y_test = np.asarray(y_test).astype(np.int)"
      ]
    },
    {
      "cell_type": "code",
      "execution_count": null,
      "metadata": {
        "execution": {
          "iopub.execute_input": "2023-03-23T07:00:39.374115Z",
          "iopub.status.busy": "2023-03-23T07:00:39.373834Z",
          "iopub.status.idle": "2023-03-23T07:00:39.381395Z",
          "shell.execute_reply": "2023-03-23T07:00:39.380618Z",
          "shell.execute_reply.started": "2023-03-23T07:00:39.374085Z"
        },
        "id": "-AsunsphTPz4",
        "outputId": "8d73b32e-defb-42f6-eeb4-91b938957853"
      },
      "outputs": [
        {
          "data": {
            "text/plain": [
              "(40000, 200)"
            ]
          },
          "execution_count": 11,
          "metadata": {},
          "output_type": "execute_result"
        }
      ],
      "source": [
        "x_train.shape"
      ]
    },
    {
      "cell_type": "code",
      "execution_count": null,
      "metadata": {
        "execution": {
          "iopub.execute_input": "2023-03-23T07:00:39.955670Z",
          "iopub.status.busy": "2023-03-23T07:00:39.955384Z",
          "iopub.status.idle": "2023-03-23T07:00:39.964195Z",
          "shell.execute_reply": "2023-03-23T07:00:39.963490Z",
          "shell.execute_reply.started": "2023-03-23T07:00:39.955638Z"
        },
        "id": "jWGnynl5TPz4",
        "outputId": "860af3eb-1ce1-4441-a064-bf2b0eed897a"
      },
      "outputs": [
        {
          "data": {
            "text/plain": [
              "(5000, 200)"
            ]
          },
          "execution_count": 12,
          "metadata": {},
          "output_type": "execute_result"
        }
      ],
      "source": [
        "x_val.shape"
      ]
    },
    {
      "cell_type": "code",
      "execution_count": null,
      "metadata": {
        "execution": {
          "iopub.execute_input": "2023-03-23T07:00:45.763516Z",
          "iopub.status.busy": "2023-03-23T07:00:45.763242Z",
          "iopub.status.idle": "2023-03-23T07:00:45.769798Z",
          "shell.execute_reply": "2023-03-23T07:00:45.768362Z",
          "shell.execute_reply.started": "2023-03-23T07:00:45.763485Z"
        },
        "id": "fA-iCepLTPz4",
        "outputId": "7ec43793-180b-436a-e14a-9373a9db79e9"
      },
      "outputs": [
        {
          "data": {
            "text/plain": [
              "(5000, 200)"
            ]
          },
          "execution_count": 13,
          "metadata": {},
          "output_type": "execute_result"
        }
      ],
      "source": [
        "x_test.shape"
      ]
    },
    {
      "cell_type": "markdown",
      "metadata": {
        "id": "S4lWtyssTPz5"
      },
      "source": [
        "# 3- Deep Learning Models"
      ]
    },
    {
      "cell_type": "markdown",
      "metadata": {
        "id": "6rqor1mmTPz5"
      },
      "source": [
        "## 3.1- Simple Model "
      ]
    },
    {
      "cell_type": "code",
      "execution_count": null,
      "metadata": {
        "execution": {
          "iopub.execute_input": "2023-03-23T07:00:49.311506Z",
          "iopub.status.busy": "2023-03-23T07:00:49.310787Z",
          "iopub.status.idle": "2023-03-23T07:02:15.168307Z",
          "shell.execute_reply": "2023-03-23T07:02:15.167462Z",
          "shell.execute_reply.started": "2023-03-23T07:00:49.311470Z"
        },
        "id": "Xur-yR43TPz5",
        "outputId": "aa5694da-3e81-4ed4-91c7-546bb2b5843e"
      },
      "outputs": [
        {
          "name": "stdout",
          "output_type": "stream",
          "text": [
            "Epoch 1/5\n",
            "1250/1250 [==============================] - 14s 10ms/step - loss: 0.3234 - accuracy: 0.8572 - val_loss: 0.2661 - val_accuracy: 0.8856\n",
            "Epoch 2/5\n",
            "1250/1250 [==============================] - 12s 10ms/step - loss: 0.1568 - accuracy: 0.9402 - val_loss: 0.3017 - val_accuracy: 0.8846\n",
            "Epoch 3/5\n",
            "1250/1250 [==============================] - 13s 10ms/step - loss: 0.0879 - accuracy: 0.9645 - val_loss: 0.3898 - val_accuracy: 0.8750\n",
            "Epoch 4/5\n",
            "1250/1250 [==============================] - 12s 10ms/step - loss: 0.0548 - accuracy: 0.9779 - val_loss: 0.5235 - val_accuracy: 0.8682\n",
            "Epoch 5/5\n",
            "1250/1250 [==============================] - 12s 10ms/step - loss: 0.0349 - accuracy: 0.9869 - val_loss: 0.6521 - val_accuracy: 0.8740\n"
          ]
        }
      ],
      "source": [
        "embedding_dim = 300\n",
        "simple_model = tf.keras.models.Sequential([\n",
        "    tf.keras.layers.Embedding(max_words, embedding_dim, input_length=maxlen),\n",
        "    #tf.keras.layers.Flatten(),\n",
        "    tf.keras.layers.GlobalAveragePooling1D(),\n",
        "    tf.keras.layers.Dense(256, activation='relu'),\n",
        "    tf.keras.layers.Dense(128, activation='relu'),\n",
        "    tf.keras.layers.Dense(64, activation='relu'),\n",
        "\n",
        "    tf.keras.layers.Dense(1, activation='sigmoid')\n",
        "])\n",
        "\n",
        "\"\"\"\n",
        "This code defines a sequential model with the following layers:\n",
        "\n",
        "Embedding layer: Maps each word index to a dense vector representation. \n",
        "It takes the max_words as the input dimension, embedding_dim as the output dimension, and maxlen as the input length.\n",
        "\n",
        "GlobalAveragePooling1D layer: Computes the average of the sequence across the embeddings dimension, resulting in a fixed-length output vector.\n",
        "\n",
        "Dense layers: Three fully connected layers with 256, 128, and 64 units respectively, using ReLU activation function.\n",
        "\n",
        "Dense layer: Final output layer with 1 unit and sigmoid activation function for binary classification.\n",
        "\"\"\"\n",
        "\n",
        "simple_model.compile(loss='binary_crossentropy',optimizer='adam',metrics=['accuracy'])\n",
        "# This line compiles the model with binary cross-entropy loss, Adam optimizer, and accuracy as the evaluation metric.\n",
        "\n",
        "\n",
        "simple_model_history = simple_model.fit(x_train,y_train,validation_data=(x_val,y_val),epochs=5)\n",
        "# This trains the model on the training data x_train and y_train, with validation data provided by x_val and y_val.\n",
        "# The model is trained for 5 epochs, and the training history is stored in simple_model_history."
      ]
    },
    {
      "cell_type": "markdown",
      "metadata": {
        "id": "TMclw852TPz5"
      },
      "source": [
        "# 4- Models Performance visualization"
      ]
    },
    {
      "cell_type": "code",
      "execution_count": null,
      "metadata": {
        "execution": {
          "iopub.execute_input": "2023-03-23T07:04:25.455426Z",
          "iopub.status.busy": "2023-03-23T07:04:25.455150Z",
          "iopub.status.idle": "2023-03-23T07:04:25.464416Z",
          "shell.execute_reply": "2023-03-23T07:04:25.463711Z",
          "shell.execute_reply.started": "2023-03-23T07:04:25.455395Z"
        },
        "id": "K6qwfOiiTPz6"
      },
      "outputs": [],
      "source": [
        "# The code snippet defines a function plot_acc_and_loss that takes a model history object as input \n",
        "# and plots the training and validation accuracy as well as the training and validation loss over epochs. \n",
        "\n",
        "def plot_acc_and_loss(model_histpry):\n",
        "\n",
        "    acc = model_histpry.history['accuracy']\n",
        "    val_acc = model_histpry.history['val_accuracy']\n",
        "\n",
        "    loss = model_histpry.history['loss']\n",
        "    val_loss = model_histpry.history['val_loss']\n",
        "    # These lines extract the accuracy and loss values for training and validation data from the model_history object.\n",
        "\n",
        "    epochs = range(1, len(acc) + 1)\n",
        "    # This line creates a range of epochs starting from 1 to the length of the accuracy values.\n",
        "\n",
        "    fig, ax = plt.subplots(1, 2, constrained_layout=True, figsize=(6, 4), dpi=80)\n",
        "    # This line creates a figure and two subplots for plotting accuracy and loss.\n",
        "\n",
        "    ax[0].plot(epochs, acc, label = \"Training Accuracy\", color='darkblue')\n",
        "    ax[0].plot(epochs, val_acc, label = \"Validation Accuracy\", color='darkgreen')\n",
        "    ax[0].grid(alpha=0.3)\n",
        "    ax[0].title.set_text('Training Vs Validation Accuracy')\n",
        "    ax[0].fill_between(epochs, acc, val_acc, color='crimson', alpha=0.3)\n",
        "    plt.setp(ax[0], xlabel='Epochs')\n",
        "    plt.setp(ax[0], ylabel='Accuracy')\n",
        "    # These lines plot the training and validation accuracy values on the first subplot. \n",
        "    #The grid is added, and the subplot is labeled. \n",
        "    # A filled area is created between the training and validation accuracy curves. \n",
        "    # The x-label is set as 'Epochs', and the y-label is set as 'Accuracy'.\n",
        "\n",
        "\n",
        "    ax[1].plot(epochs, loss, label = \"Training Loss\", color='darkblue')\n",
        "    ax[1].plot(epochs, val_loss, label = \"Validation Loss\", color='darkgreen')\n",
        "    ax[1].grid(alpha=0.3)\n",
        "    ax[1].title.set_text('Training Vs Validation Loss')\n",
        "    ax[1].fill_between(epochs,loss, val_loss, color='crimson', alpha=0.3)\n",
        "    plt.setp(ax[1], xlabel='Epochs')\n",
        "    plt.setp(ax[1], ylabel='Loss')\n",
        "    # These lines plot the training and validation loss values on the second subplot.\n",
        "    # Similar to the previous subplot, the grid is added, and the subplot is labeled.\n",
        "    # A filled area is created between the training and validation loss curves.\n",
        "    # The x-label is set as 'Epochs', and the y-label is set as 'Loss'.\n",
        "\n"
      ]
    },
    {
      "cell_type": "code",
      "execution_count": null,
      "metadata": {
        "execution": {
          "iopub.execute_input": "2023-03-23T07:06:10.626510Z",
          "iopub.status.busy": "2023-03-23T07:06:10.625979Z",
          "iopub.status.idle": "2023-03-23T07:06:11.290963Z",
          "shell.execute_reply": "2023-03-23T07:06:11.290298Z",
          "shell.execute_reply.started": "2023-03-23T07:06:10.626465Z"
        },
        "id": "draBPPNJTPz6",
        "outputId": "39870d6f-97e5-4e26-9b13-83d25adab48c"
      },
      "outputs": [
        {
          "data": {
            "image/png": "[encoded data removed]",
            "text/plain": [
              "<Figure size 480x320 with 2 Axes>"
            ]
          },
          "metadata": {
            "needs_background": "light"
          },
          "output_type": "display_data"
        }
      ],
      "source": [
        "plot_acc_and_loss(simple_model_history)"
      ]
    },
    {
      "cell_type": "markdown",
      "metadata": {
        "id": "IiNz6MnQTPz6"
      },
      "source": [
        "# 5- Testing and Prediction"
      ]
    },
    {
      "cell_type": "code",
      "execution_count": null,
      "metadata": {
        "_kg_hide-input": true,
        "execution": {
          "iopub.execute_input": "2023-03-23T07:06:18.764245Z",
          "iopub.status.busy": "2023-03-23T07:06:18.763498Z",
          "iopub.status.idle": "2023-03-23T07:06:21.912145Z",
          "shell.execute_reply": "2023-03-23T07:06:21.911406Z",
          "shell.execute_reply.started": "2023-03-23T07:06:18.764208Z"
        },
        "id": "iSxInJgsTPz6",
        "outputId": "32927575-2fc9-464f-9443-ce0bae09a671"
      },
      "outputs": [
        {
          "name": "stdout",
          "output_type": "stream",
          "text": [
            "1250/1250 [==============================] - 2s 2ms/step - loss: 0.0234 - accuracy: 0.9932\n",
            "157/157 [==============================] - 0s 2ms/step - loss: 0.6521 - accuracy: 0.8740\n",
            "157/157 [==============================] - 0s 2ms/step - loss: 0.6533 - accuracy: 0.8676\n"
          ]
        }
      ],
      "source": [
        "# The code defines a function eval_model that takes a model as input and evaluates its performance on the training, validation, and test datasets.\n",
        "def eval_model(model):\n",
        "    \n",
        "    model_acc_train_dataset = model.evaluate(x_train, y_train)\n",
        "    model_acc_val_dataset = model.evaluate(x_val, y_val)\n",
        "    model_acc_test_dataset = model.evaluate(x_test, y_test)\n",
        "    # These lines evaluate the model's performance on the training, validation, and test datasets using the evaluate method.\n",
        "    # The x_train, y_train, x_val, y_val, x_test, and y_test are the input and label data for each dataset.\n",
        "    \n",
        "    return model_acc_train_dataset, model_acc_val_dataset, model_acc_test_dataset\n",
        "\n",
        "simple_model_acc_train_dataset, simple_model_acc_val_dataset, simple_model_acc_test_dataset = eval_model(simple_model)\n",
        "#simple_rnn_model_acc_train_dataset, simple_rnn_model_acc_val_dataset, simple_rnn_model_acc_test_dataset = eval_model(simple_rnn_model)\n",
        "\n",
        "\n",
        "\"\"\"\n",
        "The eval_model function is designed to evaluate the performance of a given model by directly calling the evaluate method on the model using the appropriate input and label data. It expects a model object as input.\n",
        "\n",
        "On the other hand, simple_model_history is the history object returned by the fit method when training the model. It contains information about the training process, such as the training and validation loss and accuracy at each epoch. It is not meant to be passed to the eval_model function for evaluation.\n",
        "\n",
        "Therefore, to evaluate the performance of the simple_model, you should use eval_model(simple_model) to obtain the evaluation results on the training, validation, and test datasets.\n",
        "\"\"\"\n",
        "\n",
        "\n",
        "\n",
        "train_accs = [simple_model_acc_train_dataset[1]]\n",
        "\n",
        "val_accs = [simple_model_acc_val_dataset[1]]\n",
        "\n",
        "test_accs = [simple_model_acc_test_dataset[1]]\n",
        "\n",
        "models_eval_df = pd.DataFrame({\"Training Accuracy\":train_accs, \"Validation Accuracy\":val_accs, \"Testing Accuracy\":test_accs},\n",
        "                              index=['simple_model'])"
      ]
    },
    {
      "cell_type": "code",
      "execution_count": null,
      "metadata": {
        "execution": {
          "iopub.execute_input": "2023-03-23T07:06:26.875797Z",
          "iopub.status.busy": "2023-03-23T07:06:26.875284Z",
          "iopub.status.idle": "2023-03-23T07:06:26.888915Z",
          "shell.execute_reply": "2023-03-23T07:06:26.888031Z",
          "shell.execute_reply.started": "2023-03-23T07:06:26.875760Z"
        },
        "id": "PirUI82jTPz7",
        "outputId": "0ef15170-12c5-4f57-b219-4046eedb6575"
      },
      "outputs": [
        {
          "data": {
            "text/html": [
              "<div>\n",
              "<style scoped>\n",
              "    .dataframe tbody tr th:only-of-type {\n",
              "        vertical-align: middle;\n",
              "    }\n",
              "\n",
              "    .dataframe tbody tr th {\n",
              "        vertical-align: top;\n",
              "    }\n",
              "\n",
              "    .dataframe thead th {\n",
              "        text-align: right;\n",
              "    }\n",
              "</style>\n",
              "<table border=\"1\" class=\"dataframe\">\n",
              "  <thead>\n",
              "    <tr style=\"text-align: right;\">\n",
              "      <th></th>\n",
              "      <th>Training Accuracy</th>\n",
              "      <th>Validation Accuracy</th>\n",
              "      <th>Testing Accuracy</th>\n",
              "    </tr>\n",
              "  </thead>\n",
              "  <tbody>\n",
              "    <tr>\n",
              "      <th>simple_model</th>\n",
              "      <td>0.993225</td>\n",
              "      <td>0.874</td>\n",
              "      <td>0.8676</td>\n",
              "    </tr>\n",
              "  </tbody>\n",
              "</table>\n",
              "</div>"
            ],
            "text/plain": [
              "              Training Accuracy  Validation Accuracy  Testing Accuracy\n",
              "simple_model           0.993225                0.874            0.8676"
            ]
          },
          "execution_count": 18,
          "metadata": {},
          "output_type": "execute_result"
        }
      ],
      "source": [
        "models_eval_df"
      ]
    },
    {
      "cell_type": "code",
      "execution_count": null,
      "metadata": {
        "execution": {
          "iopub.execute_input": "2023-03-23T07:10:42.205408Z",
          "iopub.status.busy": "2023-03-23T07:10:42.205132Z",
          "iopub.status.idle": "2023-03-23T07:10:42.209405Z",
          "shell.execute_reply": "2023-03-23T07:10:42.208430Z",
          "shell.execute_reply.started": "2023-03-23T07:10:42.205378Z"
        },
        "id": "_IbNEl6hTPz7"
      },
      "outputs": [],
      "source": [
        "class_names = [\"Positive\",\"Negative\"]"
      ]
    },
    {
      "cell_type": "code",
      "execution_count": null,
      "metadata": {
        "execution": {
          "iopub.execute_input": "2023-03-23T07:09:43.095603Z",
          "iopub.status.busy": "2023-03-23T07:09:43.095274Z",
          "iopub.status.idle": "2023-03-23T07:09:43.540961Z",
          "shell.execute_reply": "2023-03-23T07:09:43.540185Z",
          "shell.execute_reply.started": "2023-03-23T07:09:43.095533Z"
        },
        "id": "a9B8Zs8ATPz7"
      },
      "outputs": [],
      "source": [
        "y_predict=simple_model.predict(y_test)"
      ]
    },
    {
      "cell_type": "code",
      "execution_count": null,
      "metadata": {
        "execution": {
          "iopub.execute_input": "2023-03-23T07:19:46.004807Z",
          "iopub.status.busy": "2023-03-23T07:19:46.004505Z",
          "iopub.status.idle": "2023-03-23T07:19:46.008998Z",
          "shell.execute_reply": "2023-03-23T07:19:46.008022Z",
          "shell.execute_reply.started": "2023-03-23T07:19:46.004776Z"
        },
        "id": "lHHwiFF1TPz7"
      },
      "outputs": [],
      "source": [
        "y_predict=y_predict.astype(int)"
      ]
    },
    {
      "cell_type": "code",
      "execution_count": null,
      "metadata": {
        "execution": {
          "iopub.execute_input": "2023-03-23T07:19:48.037373Z",
          "iopub.status.busy": "2023-03-23T07:19:48.036930Z",
          "iopub.status.idle": "2023-03-23T07:19:48.044421Z",
          "shell.execute_reply": "2023-03-23T07:19:48.042169Z",
          "shell.execute_reply.started": "2023-03-23T07:19:48.037327Z"
        },
        "id": "wj2pv5DOTPz7"
      },
      "outputs": [],
      "source": [
        " from sklearn.metrics import classification_report, confusion_matrix"
      ]
    },
    {
      "cell_type": "code",
      "execution_count": null,
      "metadata": {
        "execution": {
          "iopub.execute_input": "2023-03-23T07:19:48.837020Z",
          "iopub.status.busy": "2023-03-23T07:19:48.836759Z",
          "iopub.status.idle": "2023-03-23T07:19:48.856786Z",
          "shell.execute_reply": "2023-03-23T07:19:48.855907Z",
          "shell.execute_reply.started": "2023-03-23T07:19:48.836991Z"
        },
        "id": "lrIBqk9YTPz8",
        "outputId": "f177c5b2-03f3-42db-f741-5d48a32f2c90"
      },
      "outputs": [
        {
          "name": "stdout",
          "output_type": "stream",
          "text": [
            "              precision    recall  f1-score   support\n",
            "\n",
            "    Positive       0.50      1.00      0.67      2523\n",
            "    Negative       0.00      0.00      0.00      2477\n",
            "\n",
            "    accuracy                           0.50      5000\n",
            "   macro avg       0.25      0.50      0.34      5000\n",
            "weighted avg       0.25      0.50      0.34      5000\n",
            "\n",
            "[[2523    0]\n",
            " [2477    0]]\n"
          ]
        },
        {
          "name": "stderr",
          "output_type": "stream",
          "text": [
            "/opt/conda/lib/python3.7/site-packages/sklearn/metrics/_classification.py:1221: UndefinedMetricWarning: Precision and F-score are ill-defined and being set to 0.0 in labels with no predicted samples. Use `zero_division` parameter to control this behavior.\n",
            "  _warn_prf(average, modifier, msg_start, len(result))\n"
          ]
        }
      ],
      "source": [
        "print(classification_report(y_test, y_predict, target_names=class_names))\n",
        "\n",
        "print(confusion_matrix(y_test, y_predict))"
      ]
    }
  ],
  "metadata": {
    "kernelspec": {
      "display_name": "Python 3 (ipykernel)",
      "language": "python",
      "name": "python3"
    },
    "language_info": {
      "codemirror_mode": {
        "name": "ipython",
        "version": 3
      },
      "file_extension": ".py",
      "mimetype": "text/x-python",
      "name": "python",
      "nbconvert_exporter": "python",
      "pygments_lexer": "ipython3",
      "version": "3.8.16"
    },
    "colab": {
      "provenance": []
    }
  },
  "nbformat": 4,
  "nbformat_minor": 0
}
